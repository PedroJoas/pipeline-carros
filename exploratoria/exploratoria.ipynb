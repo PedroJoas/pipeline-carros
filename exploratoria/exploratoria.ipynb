{
 "cells": [
  {
   "cell_type": "code",
   "execution_count": 73,
   "id": "a942757e",
   "metadata": {},
   "outputs": [],
   "source": [
    "import pandas as pd\n",
    "import numpy as np\n",
    "\n",
    "import re"
   ]
  },
  {
   "cell_type": "code",
   "execution_count": 75,
   "id": "ce1242ad",
   "metadata": {},
   "outputs": [
    {
     "data": {
      "text/html": [
       "<div>\n",
       "<style scoped>\n",
       "    .dataframe tbody tr th:only-of-type {\n",
       "        vertical-align: middle;\n",
       "    }\n",
       "\n",
       "    .dataframe tbody tr th {\n",
       "        vertical-align: top;\n",
       "    }\n",
       "\n",
       "    .dataframe thead th {\n",
       "        text-align: right;\n",
       "    }\n",
       "</style>\n",
       "<table border=\"1\" class=\"dataframe\">\n",
       "  <thead>\n",
       "    <tr style=\"text-align: right;\">\n",
       "      <th></th>\n",
       "      <th>precos</th>\n",
       "      <th>Categoria</th>\n",
       "      <th>Modelo</th>\n",
       "      <th>Marca</th>\n",
       "      <th>Tipo de veículo</th>\n",
       "      <th>Ano</th>\n",
       "      <th>Quilometragem</th>\n",
       "      <th>Potência do motor</th>\n",
       "      <th>Combustível</th>\n",
       "      <th>Câmbio</th>\n",
       "      <th>Direção</th>\n",
       "      <th>Cor</th>\n",
       "      <th>Portas</th>\n",
       "      <th>Final de placa</th>\n",
       "      <th>Possui Kit GNV</th>\n",
       "      <th>Tipo de direção</th>\n",
       "    </tr>\n",
       "  </thead>\n",
       "  <tbody>\n",
       "    <tr>\n",
       "      <th>0</th>\n",
       "      <td>45.900</td>\n",
       "      <td>Carros, Vans E Utilitários</td>\n",
       "      <td>Hyundai C./c.plus/c.style 1.6 Flex 16v Mec.</td>\n",
       "      <td>Hyundai</td>\n",
       "      <td>Hatch</td>\n",
       "      <td>2016.0</td>\n",
       "      <td>50800.0</td>\n",
       "      <td>1.6</td>\n",
       "      <td>Flex</td>\n",
       "      <td>Manual</td>\n",
       "      <td>Hidráulica</td>\n",
       "      <td>Branco</td>\n",
       "      <td>4 Portas</td>\n",
       "      <td>4.0</td>\n",
       "      <td>Sim</td>\n",
       "      <td>Hidráulica</td>\n",
       "    </tr>\n",
       "    <tr>\n",
       "      <th>1</th>\n",
       "      <td>93.900</td>\n",
       "      <td>Carros, Vans E Utilitários</td>\n",
       "      <td>Nissan Sense 1.6 16v Flex Aut</td>\n",
       "      <td>Nissan</td>\n",
       "      <td>Suv</td>\n",
       "      <td>2022.0</td>\n",
       "      <td>53000.0</td>\n",
       "      <td>1.6</td>\n",
       "      <td>Flex</td>\n",
       "      <td>Automático</td>\n",
       "      <td>Elétrica</td>\n",
       "      <td>Cinza</td>\n",
       "      <td>4 Portas</td>\n",
       "      <td>NaN</td>\n",
       "      <td>NaN</td>\n",
       "      <td>NaN</td>\n",
       "    </tr>\n",
       "    <tr>\n",
       "      <th>2</th>\n",
       "      <td>118.900</td>\n",
       "      <td>Carros, Vans E Utilitários</td>\n",
       "      <td>Fiat Volcano 1.3 Flex 8v Cd</td>\n",
       "      <td>Fiat</td>\n",
       "      <td>Pick-up</td>\n",
       "      <td>2023.0</td>\n",
       "      <td>13773.0</td>\n",
       "      <td>1.3</td>\n",
       "      <td>Flex</td>\n",
       "      <td>Manual</td>\n",
       "      <td>Elétrica</td>\n",
       "      <td>Prata</td>\n",
       "      <td>4 Portas</td>\n",
       "      <td>NaN</td>\n",
       "      <td>Não</td>\n",
       "      <td>Elétrica</td>\n",
       "    </tr>\n",
       "    <tr>\n",
       "      <th>3</th>\n",
       "      <td>67.990</td>\n",
       "      <td>Carros, Vans E Utilitários</td>\n",
       "      <td>Chevrolet Plus Lt 1.0 12v Flex Mec. 4p</td>\n",
       "      <td>Chevrolet</td>\n",
       "      <td>Sedã</td>\n",
       "      <td>2020.0</td>\n",
       "      <td>56020.0</td>\n",
       "      <td>1.0</td>\n",
       "      <td>Flex</td>\n",
       "      <td>Manual</td>\n",
       "      <td>Elétrica</td>\n",
       "      <td>Branco</td>\n",
       "      <td>4 Portas</td>\n",
       "      <td>4.0</td>\n",
       "      <td>Não</td>\n",
       "      <td>Elétrica</td>\n",
       "    </tr>\n",
       "    <tr>\n",
       "      <th>4</th>\n",
       "      <td>46.500</td>\n",
       "      <td>Carros, Vans E Utilitários</td>\n",
       "      <td>Honda Sedan Exs 1.8/1.8 Flex 16v Aut. 4p</td>\n",
       "      <td>Honda</td>\n",
       "      <td>Sedã</td>\n",
       "      <td>2007.0</td>\n",
       "      <td>166000.0</td>\n",
       "      <td>1.8</td>\n",
       "      <td>Flex</td>\n",
       "      <td>Automático</td>\n",
       "      <td>Hidráulica</td>\n",
       "      <td>Cinza</td>\n",
       "      <td>4 Portas</td>\n",
       "      <td>2.0</td>\n",
       "      <td>Não</td>\n",
       "      <td>Hidráulica</td>\n",
       "    </tr>\n",
       "  </tbody>\n",
       "</table>\n",
       "</div>"
      ],
      "text/plain": [
       "    precos                   Categoria  \\\n",
       "0   45.900  Carros, Vans E Utilitários   \n",
       "1   93.900  Carros, Vans E Utilitários   \n",
       "2  118.900  Carros, Vans E Utilitários   \n",
       "3   67.990  Carros, Vans E Utilitários   \n",
       "4   46.500  Carros, Vans E Utilitários   \n",
       "\n",
       "                                        Modelo      Marca Tipo de veículo  \\\n",
       "0  Hyundai C./c.plus/c.style 1.6 Flex 16v Mec.    Hyundai           Hatch   \n",
       "1                Nissan Sense 1.6 16v Flex Aut     Nissan             Suv   \n",
       "2                  Fiat Volcano 1.3 Flex 8v Cd       Fiat         Pick-up   \n",
       "3       Chevrolet Plus Lt 1.0 12v Flex Mec. 4p  Chevrolet            Sedã   \n",
       "4     Honda Sedan Exs 1.8/1.8 Flex 16v Aut. 4p      Honda            Sedã   \n",
       "\n",
       "      Ano  Quilometragem Potência do motor Combustível      Câmbio  \\\n",
       "0  2016.0        50800.0               1.6        Flex      Manual   \n",
       "1  2022.0        53000.0               1.6        Flex  Automático   \n",
       "2  2023.0        13773.0               1.3        Flex      Manual   \n",
       "3  2020.0        56020.0               1.0        Flex      Manual   \n",
       "4  2007.0       166000.0               1.8        Flex  Automático   \n",
       "\n",
       "      Direção     Cor    Portas  Final de placa Possui Kit GNV Tipo de direção  \n",
       "0  Hidráulica  Branco  4 Portas             4.0            Sim      Hidráulica  \n",
       "1    Elétrica   Cinza  4 Portas             NaN            NaN             NaN  \n",
       "2    Elétrica   Prata  4 Portas             NaN            Não        Elétrica  \n",
       "3    Elétrica  Branco  4 Portas             4.0            Não        Elétrica  \n",
       "4  Hidráulica   Cinza  4 Portas             2.0            Não      Hidráulica  "
      ]
     },
     "execution_count": 75,
     "metadata": {},
     "output_type": "execute_result"
    }
   ],
   "source": [
    "dados = pd.read_csv('../dados/carros_bruto.csv', dtype={'precos':str})\n",
    "dados.head()"
   ]
  },
  {
   "cell_type": "code",
   "execution_count": 76,
   "id": "4ca54b52",
   "metadata": {},
   "outputs": [
    {
     "name": "stdout",
     "output_type": "stream",
     "text": [
      "<class 'pandas.core.frame.DataFrame'>\n",
      "RangeIndex: 500 entries, 0 to 499\n",
      "Data columns (total 16 columns):\n",
      " #   Column             Non-Null Count  Dtype  \n",
      "---  ------             --------------  -----  \n",
      " 0   precos             499 non-null    object \n",
      " 1   Categoria          499 non-null    object \n",
      " 2   Modelo             499 non-null    object \n",
      " 3   Marca              499 non-null    object \n",
      " 4   Tipo de veículo    482 non-null    object \n",
      " 5   Ano                499 non-null    float64\n",
      " 6   Quilometragem      499 non-null    float64\n",
      " 7   Potência do motor  487 non-null    object \n",
      " 8   Combustível        493 non-null    object \n",
      " 9   Câmbio             487 non-null    object \n",
      " 10  Direção            480 non-null    object \n",
      " 11  Cor                490 non-null    object \n",
      " 12  Portas             493 non-null    object \n",
      " 13  Final de placa     428 non-null    float64\n",
      " 14  Possui Kit GNV     477 non-null    object \n",
      " 15  Tipo de direção    458 non-null    object \n",
      "dtypes: float64(3), object(13)\n",
      "memory usage: 62.6+ KB\n"
     ]
    }
   ],
   "source": [
    "dados.info()"
   ]
  },
  {
   "cell_type": "code",
   "execution_count": 77,
   "id": "9182e70a",
   "metadata": {},
   "outputs": [
    {
     "data": {
      "text/plain": [
       "precos                1\n",
       "Categoria             1\n",
       "Modelo                1\n",
       "Marca                 1\n",
       "Tipo de veículo      18\n",
       "Ano                   1\n",
       "Quilometragem         1\n",
       "Potência do motor    13\n",
       "Combustível           7\n",
       "Câmbio               13\n",
       "Direção              20\n",
       "Cor                  10\n",
       "Portas                7\n",
       "Final de placa       72\n",
       "Possui Kit GNV       23\n",
       "Tipo de direção      42\n",
       "dtype: int64"
      ]
     },
     "execution_count": 77,
     "metadata": {},
     "output_type": "execute_result"
    }
   ],
   "source": [
    "dados.isna().sum()"
   ]
  },
  {
   "cell_type": "code",
   "execution_count": 78,
   "id": "3612bc0a",
   "metadata": {},
   "outputs": [
    {
     "data": {
      "text/html": [
       "<div>\n",
       "<style scoped>\n",
       "    .dataframe tbody tr th:only-of-type {\n",
       "        vertical-align: middle;\n",
       "    }\n",
       "\n",
       "    .dataframe tbody tr th {\n",
       "        vertical-align: top;\n",
       "    }\n",
       "\n",
       "    .dataframe thead th {\n",
       "        text-align: right;\n",
       "    }\n",
       "</style>\n",
       "<table border=\"1\" class=\"dataframe\">\n",
       "  <thead>\n",
       "    <tr style=\"text-align: right;\">\n",
       "      <th></th>\n",
       "      <th>precos</th>\n",
       "      <th>Categoria</th>\n",
       "      <th>Modelo</th>\n",
       "      <th>Marca</th>\n",
       "      <th>Tipo de veículo</th>\n",
       "      <th>Ano</th>\n",
       "      <th>Quilometragem</th>\n",
       "      <th>Potência do motor</th>\n",
       "      <th>Combustível</th>\n",
       "      <th>Câmbio</th>\n",
       "      <th>Direção</th>\n",
       "      <th>Cor</th>\n",
       "      <th>Portas</th>\n",
       "      <th>Final de placa</th>\n",
       "      <th>Possui Kit GNV</th>\n",
       "      <th>Tipo de direção</th>\n",
       "    </tr>\n",
       "  </thead>\n",
       "  <tbody>\n",
       "    <tr>\n",
       "      <th>455</th>\n",
       "      <td>NaN</td>\n",
       "      <td>NaN</td>\n",
       "      <td>NaN</td>\n",
       "      <td>NaN</td>\n",
       "      <td>NaN</td>\n",
       "      <td>NaN</td>\n",
       "      <td>NaN</td>\n",
       "      <td>NaN</td>\n",
       "      <td>NaN</td>\n",
       "      <td>NaN</td>\n",
       "      <td>NaN</td>\n",
       "      <td>NaN</td>\n",
       "      <td>NaN</td>\n",
       "      <td>NaN</td>\n",
       "      <td>NaN</td>\n",
       "      <td>NaN</td>\n",
       "    </tr>\n",
       "  </tbody>\n",
       "</table>\n",
       "</div>"
      ],
      "text/plain": [
       "    precos Categoria Modelo Marca Tipo de veículo  Ano  Quilometragem  \\\n",
       "455    NaN       NaN    NaN   NaN             NaN  NaN            NaN   \n",
       "\n",
       "    Potência do motor Combustível Câmbio Direção  Cor Portas  Final de placa  \\\n",
       "455               NaN         NaN    NaN     NaN  NaN    NaN             NaN   \n",
       "\n",
       "    Possui Kit GNV Tipo de direção  \n",
       "455            NaN             NaN  "
      ]
     },
     "execution_count": 78,
     "metadata": {},
     "output_type": "execute_result"
    }
   ],
   "source": [
    "dados[dados.precos.isna()]"
   ]
  },
  {
   "cell_type": "code",
   "execution_count": 79,
   "id": "47058455",
   "metadata": {},
   "outputs": [],
   "source": [
    "dados['precos'] = pd.to_numeric(dados.precos.str.replace('.',''))"
   ]
  },
  {
   "cell_type": "code",
   "execution_count": null,
   "id": "e558f906",
   "metadata": {},
   "outputs": [],
   "source": [
    "dados['Potência do motor'] = pd.to_naumeric(dados['Potência do motor'].apply(\n",
    "    lambda x: re.search(r'\\d+(\\.\\d+)?', str(x)).group() if re.search(r'\\d+(\\.\\d+)?', str(x)) else None\n",
    "))"
   ]
  },
  {
   "cell_type": "code",
   "execution_count": 98,
   "id": "180ee8a3",
   "metadata": {},
   "outputs": [],
   "source": [
    "modas = {\n",
    "    col: dados[col].mode()[0]\n",
    "    for col in dados.select_dtypes(include='object').columns\n",
    "    if not dados[col].mode().empty\n",
    "}\n",
    "\n",
    "medianas = {\n",
    "    col: dados[col].median()\n",
    "    for col in dados.select_dtypes(include='number').columns\n",
    "}\n",
    "\n",
    "preenchimentos = {**modas, **medianas}\n",
    "\n",
    "dados.fillna(preenchimentos, inplace=True)\n"
   ]
  },
  {
   "cell_type": "code",
   "execution_count": 99,
   "id": "5091e61a",
   "metadata": {},
   "outputs": [
    {
     "data": {
      "text/plain": [
       "precos               0\n",
       "Categoria            0\n",
       "Modelo               0\n",
       "Marca                0\n",
       "Tipo de veículo      0\n",
       "Ano                  0\n",
       "Quilometragem        0\n",
       "Potência do motor    0\n",
       "Combustível          0\n",
       "Câmbio               0\n",
       "Direção              0\n",
       "Cor                  0\n",
       "Portas               0\n",
       "Final de placa       0\n",
       "Possui Kit GNV       0\n",
       "Tipo de direção      0\n",
       "dtype: int64"
      ]
     },
     "execution_count": 99,
     "metadata": {},
     "output_type": "execute_result"
    }
   ],
   "source": [
    "dados.isna().sum()"
   ]
  },
  {
   "cell_type": "code",
   "execution_count": 105,
   "id": "f05504af",
   "metadata": {},
   "outputs": [],
   "source": [
    "import matplotlib.pyplot as plt\n",
    "import seaborn as sns"
   ]
  },
  {
   "cell_type": "code",
   "execution_count": 106,
   "id": "b128644b",
   "metadata": {},
   "outputs": [
    {
     "data": {
      "text/plain": [
       "Categoria\n",
       "Carros, Vans E Utilitários    500\n",
       "Name: count, dtype: int64"
      ]
     },
     "execution_count": 106,
     "metadata": {},
     "output_type": "execute_result"
    }
   ],
   "source": [
    "dados.Categoria.value_counts()"
   ]
  },
  {
   "cell_type": "code",
   "execution_count": 108,
   "id": "ee67adfa",
   "metadata": {},
   "outputs": [
    {
     "data": {
      "text/plain": [
       "Portas\n",
       "4 Portas    476\n",
       "2 Portas     23\n",
       "3 Portas      1\n",
       "Name: count, dtype: int64"
      ]
     },
     "execution_count": 108,
     "metadata": {},
     "output_type": "execute_result"
    }
   ],
   "source": [
    "dados.Portas.value_counts()"
   ]
  },
  {
   "cell_type": "code",
   "execution_count": 113,
   "id": "a44df245",
   "metadata": {},
   "outputs": [
    {
     "name": "stdout",
     "output_type": "stream",
     "text": [
      "Categoria\n",
      "Câmbio\n",
      "Portas\n",
      "Possui Kit GNV\n"
     ]
    }
   ],
   "source": [
    "for col in dados.columns:\n",
    "    if dados[col].unique().shape[0] <= 3:\n",
    "        print(col)"
   ]
  },
  {
   "cell_type": "code",
   "execution_count": 115,
   "id": "a0bb1c5c",
   "metadata": {},
   "outputs": [
    {
     "data": {
      "text/plain": [
       "Câmbio\n",
       "Automático    111676.283525\n",
       "Manual         64763.502092\n",
       "Name: precos, dtype: float64"
      ]
     },
     "execution_count": 115,
     "metadata": {},
     "output_type": "execute_result"
    }
   ],
   "source": [
    "dados.groupby('Câmbio')['precos'].mean()"
   ]
  },
  {
   "cell_type": "code",
   "execution_count": 116,
   "id": "12dfebb3",
   "metadata": {},
   "outputs": [
    {
     "data": {
      "text/plain": [
       "Portas\n",
       "2 Portas    68985.565217\n",
       "3 Portas    99900.000000\n",
       "4 Portas    90208.863445\n",
       "Name: precos, dtype: float64"
      ]
     },
     "execution_count": 116,
     "metadata": {},
     "output_type": "execute_result"
    }
   ],
   "source": [
    "dados.groupby('Portas')['precos'].mean()"
   ]
  },
  {
   "cell_type": "code",
   "execution_count": 149,
   "id": "65491e98",
   "metadata": {},
   "outputs": [
    {
     "data": {
      "text/plain": [
       "Possui Kit GNV\n",
       "Não    494\n",
       "Sim      6\n",
       "Name: count, dtype: int64"
      ]
     },
     "execution_count": 149,
     "metadata": {},
     "output_type": "execute_result"
    }
   ],
   "source": [
    "dados['Possui Kit GNV'].value_counts()"
   ]
  },
  {
   "cell_type": "code",
   "execution_count": 146,
   "id": "73dbd878",
   "metadata": {},
   "outputs": [
    {
     "data": {
      "text/plain": [
       "Potência do motor\n",
       "1.0    281\n",
       "1.6     41\n",
       "1.3     40\n",
       "2.0     40\n",
       "1.4     31\n",
       "1.2     21\n",
       "1.8     20\n",
       "1.5     13\n",
       "3.0     10\n",
       "4.0      3\n",
       "Name: count, dtype: int64"
      ]
     },
     "execution_count": 146,
     "metadata": {},
     "output_type": "execute_result"
    }
   ],
   "source": [
    "dados['Potência do motor'].value_counts()"
   ]
  },
  {
   "cell_type": "code",
   "execution_count": 141,
   "id": "9f231008",
   "metadata": {},
   "outputs": [
    {
     "data": {
      "text/plain": [
       "Direção\n",
       "Elétrica             355\n",
       "Hidráulica           122\n",
       "Mecânica              19\n",
       "Eletro-hidráulica      4\n",
       "Name: count, dtype: int64"
      ]
     },
     "execution_count": 141,
     "metadata": {},
     "output_type": "execute_result"
    }
   ],
   "source": [
    "dados['Direção'].value_counts()"
   ]
  },
  {
   "cell_type": "code",
   "execution_count": 133,
   "id": "b56e93f4",
   "metadata": {},
   "outputs": [
    {
     "data": {
      "text/plain": [
       "Cor\n",
       "Verde        27500.000000\n",
       "Branco       83381.020619\n",
       "Prata        83929.897959\n",
       "Vermelho     84400.344828\n",
       "Cinza        94671.879310\n",
       "Preto        98829.014085\n",
       "Outra       102760.000000\n",
       "Azul        109429.677419\n",
       "Name: precos, dtype: float64"
      ]
     },
     "execution_count": 133,
     "metadata": {},
     "output_type": "execute_result"
    }
   ],
   "source": [
    "dados.groupby('Cor')['precos'].mean().sort_values()"
   ]
  },
  {
   "cell_type": "code",
   "execution_count": 137,
   "id": "5a9d0ce6",
   "metadata": {},
   "outputs": [
    {
     "data": {
      "text/plain": [
       "Combustível\n",
       "álcool        9998.0\n",
       "Gasolina     79945.0\n",
       "Flex         81490.0\n",
       "Híbrido     151890.0\n",
       "Diesel      152740.0\n",
       "Name: precos, dtype: float64"
      ]
     },
     "execution_count": 137,
     "metadata": {},
     "output_type": "execute_result"
    }
   ],
   "source": [
    "dados.groupby('Combustível')['precos'].median().sort_values()"
   ]
  },
  {
   "cell_type": "code",
   "execution_count": 147,
   "id": "1041a98a",
   "metadata": {},
   "outputs": [
    {
     "data": {
      "text/plain": [
       "Combustível\n",
       "Flex        450\n",
       "Diesel       36\n",
       "Gasolina     12\n",
       "Híbrido       1\n",
       "álcool        1\n",
       "Name: count, dtype: int64"
      ]
     },
     "execution_count": 147,
     "metadata": {},
     "output_type": "execute_result"
    }
   ],
   "source": [
    "dados['Combustível'].value_counts()"
   ]
  },
  {
   "cell_type": "code",
   "execution_count": 139,
   "id": "1dbb4519",
   "metadata": {},
   "outputs": [
    {
     "data": {
      "image/png": "[encoded data removed]",
      "text/plain": [
       "<Figure size 640x480 with 1 Axes>"
      ]
     },
     "metadata": {},
     "output_type": "display_data"
    }
   ],
   "source": [
    "sns.histplot(dados, x='precos')\n",
    "plt.show()"
   ]
  },
  {
   "cell_type": "code",
   "execution_count": 156,
   "id": "6726bb3a",
   "metadata": {},
   "outputs": [],
   "source": [
    "def remover_categorias_raras(df, col, limite=10):\n",
    "    freq = df[col].value_counts()\n",
    "    categorias_comuns = freq[freq >= limite].index\n",
    "    return df[df[col].isin(categorias_comuns)]\n",
    "\n",
    "colunas = ['Marca', 'Tipo de veículo', 'Potência do motor', \n",
    "           'Combustível', 'Câmbio', 'Direção', 'Portas', 'Tipo de direção']\n",
    "\n",
    "df_filtrado = dados.copy()\n",
    "for coluna in colunas:\n",
    "    df_filtrado = remover_categorias_raras(df_filtrado, coluna, limite=10)\n"
   ]
  },
  {
   "cell_type": "code",
   "execution_count": 158,
   "id": "62dbe3a5",
   "metadata": {},
   "outputs": [
    {
     "data": {
      "text/plain": [
       "Marca\n",
       "Chevrolet     116\n",
       "Fiat           98\n",
       "Volkswagen     82\n",
       "Hyundai        44\n",
       "Jeep           36\n",
       "Ford           19\n",
       "Toyota         17\n",
       "Renault        16\n",
       "Nissan         12\n",
       "Honda          12\n",
       "Mitsubishi      9\n",
       "Name: count, dtype: int64"
      ]
     },
     "execution_count": 158,
     "metadata": {},
     "output_type": "execute_result"
    }
   ],
   "source": [
    "df_filtrado.Marca.value_counts()"
   ]
  },
  {
   "cell_type": "code",
   "execution_count": 159,
   "id": "5752ddb8",
   "metadata": {},
   "outputs": [
    {
     "data": {
      "text/plain": [
       "(461, 11)"
      ]
     },
     "execution_count": 159,
     "metadata": {},
     "output_type": "execute_result"
    }
   ],
   "source": [
    "df_filtrado.shape"
   ]
  },
  {
   "cell_type": "code",
   "execution_count": 150,
   "id": "299dddbb",
   "metadata": {},
   "outputs": [],
   "source": [
    "dados.drop(['Categoria', 'Modelo', 'Possui Kit GNV', 'Final de placa', 'Cor'], axis=1, inplace=True)"
   ]
  },
  {
   "cell_type": "code",
   "execution_count": 153,
   "id": "5b00a664",
   "metadata": {},
   "outputs": [
    {
     "data": {
      "text/plain": [
       "Index(['precos', 'Marca', 'Tipo de veículo', 'Ano', 'Quilometragem',\n",
       "       'Potência do motor', 'Combustível', 'Câmbio', 'Direção', 'Portas',\n",
       "       'Tipo de direção'],\n",
       "      dtype='object')"
      ]
     },
     "execution_count": 153,
     "metadata": {},
     "output_type": "execute_result"
    }
   ],
   "source": [
    "dados.columns"
   ]
  },
  {
   "cell_type": "code",
   "execution_count": null,
   "id": "49a31055",
   "metadata": {},
   "outputs": [],
   "source": []
  }
 ],
 "metadata": {
  "kernelspec": {
   "display_name": "pipeline-carros-py3.10 (3.10.11)",
   "language": "python",
   "name": "python3"
  },
  "language_info": {
   "codemirror_mode": {
    "name": "ipython",
    "version": 3
   },
   "file_extension": ".py",
   "mimetype": "text/x-python",
   "name": "python",
   "nbconvert_exporter": "python",
   "pygments_lexer": "ipython3",
   "version": "3.10.11"
  }
 },
 "nbformat": 4,
 "nbformat_minor": 5
}
